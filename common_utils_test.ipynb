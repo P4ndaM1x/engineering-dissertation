{
 "cells": [
  {
   "cell_type": "code",
   "execution_count": 1,
   "metadata": {},
   "outputs": [
    {
     "name": "stderr",
     "output_type": "stream",
     "text": [
      "2023-11-04 19:35:11.079394: I tensorflow/core/util/port.cc:111] oneDNN custom operations are on. You may see slightly different numerical results due to floating-point round-off errors from different computation orders. To turn them off, set the environment variable `TF_ENABLE_ONEDNN_OPTS=0`.\n",
      "2023-11-04 19:35:11.115453: E tensorflow/compiler/xla/stream_executor/cuda/cuda_dnn.cc:9342] Unable to register cuDNN factory: Attempting to register factory for plugin cuDNN when one has already been registered\n",
      "2023-11-04 19:35:11.115478: E tensorflow/compiler/xla/stream_executor/cuda/cuda_fft.cc:609] Unable to register cuFFT factory: Attempting to register factory for plugin cuFFT when one has already been registered\n",
      "2023-11-04 19:35:11.115499: E tensorflow/compiler/xla/stream_executor/cuda/cuda_blas.cc:1518] Unable to register cuBLAS factory: Attempting to register factory for plugin cuBLAS when one has already been registered\n",
      "2023-11-04 19:35:11.121404: I tensorflow/core/platform/cpu_feature_guard.cc:182] This TensorFlow binary is optimized to use available CPU instructions in performance-critical operations.\n",
      "To enable the following instructions: AVX2 AVX512F AVX512_VNNI FMA, in other operations, rebuild TensorFlow with the appropriate compiler flags.\n"
     ]
    },
    {
     "name": "stdout",
     "output_type": "stream",
     "text": [
      "[PhysicalDevice(name='/physical_device:CPU:0', device_type='CPU'), PhysicalDevice(name='/physical_device:GPU:0', device_type='GPU')]\n"
     ]
    },
    {
     "name": "stderr",
     "output_type": "stream",
     "text": [
      "2023-11-04 19:35:12.526786: I tensorflow/compiler/xla/stream_executor/cuda/cuda_gpu_executor.cc:894] successful NUMA node read from SysFS had negative value (-1), but there must be at least one NUMA node, so returning NUMA node zero. See more at https://github.com/torvalds/linux/blob/v6.0/Documentation/ABI/testing/sysfs-bus-pci#L344-L355\n",
      "2023-11-04 19:35:12.530111: I tensorflow/compiler/xla/stream_executor/cuda/cuda_gpu_executor.cc:894] successful NUMA node read from SysFS had negative value (-1), but there must be at least one NUMA node, so returning NUMA node zero. See more at https://github.com/torvalds/linux/blob/v6.0/Documentation/ABI/testing/sysfs-bus-pci#L344-L355\n",
      "2023-11-04 19:35:12.530221: I tensorflow/compiler/xla/stream_executor/cuda/cuda_gpu_executor.cc:894] successful NUMA node read from SysFS had negative value (-1), but there must be at least one NUMA node, so returning NUMA node zero. See more at https://github.com/torvalds/linux/blob/v6.0/Documentation/ABI/testing/sysfs-bus-pci#L344-L355\n"
     ]
    }
   ],
   "source": [
    "import tensorflow as tf\n",
    "print(tf.config.list_physical_devices())"
   ]
  },
  {
   "cell_type": "code",
   "execution_count": 2,
   "metadata": {},
   "outputs": [],
   "source": [
    "POINTS_NUM = 10\n",
    "CLASSES_NUM = 2"
   ]
  },
  {
   "cell_type": "code",
   "execution_count": 3,
   "metadata": {},
   "outputs": [
    {
     "name": "stderr",
     "output_type": "stream",
     "text": [
      "2023-11-04 19:35:12.551173: I tensorflow/compiler/xla/stream_executor/cuda/cuda_gpu_executor.cc:894] successful NUMA node read from SysFS had negative value (-1), but there must be at least one NUMA node, so returning NUMA node zero. See more at https://github.com/torvalds/linux/blob/v6.0/Documentation/ABI/testing/sysfs-bus-pci#L344-L355\n",
      "2023-11-04 19:35:12.551323: I tensorflow/compiler/xla/stream_executor/cuda/cuda_gpu_executor.cc:894] successful NUMA node read from SysFS had negative value (-1), but there must be at least one NUMA node, so returning NUMA node zero. See more at https://github.com/torvalds/linux/blob/v6.0/Documentation/ABI/testing/sysfs-bus-pci#L344-L355\n",
      "2023-11-04 19:35:12.551401: I tensorflow/compiler/xla/stream_executor/cuda/cuda_gpu_executor.cc:894] successful NUMA node read from SysFS had negative value (-1), but there must be at least one NUMA node, so returning NUMA node zero. See more at https://github.com/torvalds/linux/blob/v6.0/Documentation/ABI/testing/sysfs-bus-pci#L344-L355\n",
      "2023-11-04 19:35:13.199112: I tensorflow/compiler/xla/stream_executor/cuda/cuda_gpu_executor.cc:894] successful NUMA node read from SysFS had negative value (-1), but there must be at least one NUMA node, so returning NUMA node zero. See more at https://github.com/torvalds/linux/blob/v6.0/Documentation/ABI/testing/sysfs-bus-pci#L344-L355\n",
      "2023-11-04 19:35:13.199225: I tensorflow/compiler/xla/stream_executor/cuda/cuda_gpu_executor.cc:894] successful NUMA node read from SysFS had negative value (-1), but there must be at least one NUMA node, so returning NUMA node zero. See more at https://github.com/torvalds/linux/blob/v6.0/Documentation/ABI/testing/sysfs-bus-pci#L344-L355\n",
      "2023-11-04 19:35:13.199303: I tensorflow/compiler/xla/stream_executor/cuda/cuda_gpu_executor.cc:894] successful NUMA node read from SysFS had negative value (-1), but there must be at least one NUMA node, so returning NUMA node zero. See more at https://github.com/torvalds/linux/blob/v6.0/Documentation/ABI/testing/sysfs-bus-pci#L344-L355\n",
      "2023-11-04 19:35:13.199367: I tensorflow/core/common_runtime/gpu/gpu_device.cc:1886] Created device /job:localhost/replica:0/task:0/device:GPU:0 with 546 MB memory:  -> device: 0, name: NVIDIA GeForce RTX 3070, pci bus id: 0000:01:00.0, compute capability: 8.6\n"
     ]
    }
   ],
   "source": [
    "import numpy as np\n",
    "q = np.load('/home/rutkowski/dissertation/proccessed_data/q.npy')\n",
    "q[q == -1] = 0\n",
    "q_labels = tf.one_hot(q, CLASSES_NUM)"
   ]
  },
  {
   "cell_type": "code",
   "execution_count": 4,
   "metadata": {},
   "outputs": [],
   "source": [
    "from common.search import ConfigsTester\n",
    "\n",
    "configs_tester = ConfigsTester(spacepoints_number_space = [10,],\n",
    "                               hiddenlayers_number_space = [1,2,3,],\n",
    "                               layer_neurons_number_space = [32,64,96,],\n",
    "                               layer_activation_func_space = ['pol_tanh','pol_sigmoid','cart_tanh','cart_sigmoid','cart_relu',],\n",
    "                               metric = 'accuracy',\n",
    "                               save_path = '/home/rutkowski/dissertation/trained_models/')"
   ]
  },
  {
   "cell_type": "code",
   "execution_count": 5,
   "metadata": {},
   "outputs": [
    {
     "name": "stdout",
     "output_type": "stream",
     "text": [
      "START (10, 1, 32, 'pol_tanh')\n"
     ]
    },
    {
     "name": "stderr",
     "output_type": "stream",
     "text": [
      "2023-11-04 19:35:14.009977: I tensorflow/tsl/platform/default/subprocess.cc:304] Start cannot spawn child process: No such file or directory\n"
     ]
    },
    {
     "name": "stdout",
     "output_type": "stream",
     "text": [
      "      model compiled\n",
      "      training...\n"
     ]
    },
    {
     "name": "stderr",
     "output_type": "stream",
     "text": [
      "2023-11-04 19:35:16.228103: E tensorflow/compiler/xla/stream_executor/cuda/cuda_blas.cc:188] failed to create cublas handle: the library was not initialized\n",
      "2023-11-04 19:35:16.228128: E tensorflow/compiler/xla/stream_executor/cuda/cuda_blas.cc:191] Failure to initialize cublas may be due to OOM (cublas needs some free memory when you initialize it, and your deep-learning framework may have preallocated more than its fair share), or may be because this binary was not built with support for the GPU in your machine.\n",
      "2023-11-04 19:35:16.228145: W tensorflow/core/framework/op_kernel.cc:1839] OP_REQUIRES failed at matmul_op_impl.h:804 : INTERNAL: Attempting to perform BLAS operation using StreamExecutor without BLAS support\n"
     ]
    },
    {
     "ename": "InternalError",
     "evalue": "Graph execution error:\n\nDetected at node sequential/complex_dense_1/MatMul defined at (most recent call last):\n  File \"/usr/lib/python3.10/runpy.py\", line 196, in _run_module_as_main\n\n  File \"/usr/lib/python3.10/runpy.py\", line 86, in _run_code\n\n  File \"/home/rutkowski/.local/lib/python3.10/site-packages/ipykernel_launcher.py\", line 17, in <module>\n\n  File \"/home/rutkowski/.local/lib/python3.10/site-packages/traitlets/config/application.py\", line 1053, in launch_instance\n\n  File \"/home/rutkowski/.local/lib/python3.10/site-packages/ipykernel/kernelapp.py\", line 736, in start\n\n  File \"/home/rutkowski/.local/lib/python3.10/site-packages/tornado/platform/asyncio.py\", line 195, in start\n\n  File \"/usr/lib/python3.10/asyncio/base_events.py\", line 603, in run_forever\n\n  File \"/usr/lib/python3.10/asyncio/base_events.py\", line 1909, in _run_once\n\n  File \"/usr/lib/python3.10/asyncio/events.py\", line 80, in _run\n\n  File \"/home/rutkowski/.local/lib/python3.10/site-packages/ipykernel/kernelbase.py\", line 516, in dispatch_queue\n\n  File \"/home/rutkowski/.local/lib/python3.10/site-packages/ipykernel/kernelbase.py\", line 505, in process_one\n\n  File \"/home/rutkowski/.local/lib/python3.10/site-packages/ipykernel/kernelbase.py\", line 412, in dispatch_shell\n\n  File \"/home/rutkowski/.local/lib/python3.10/site-packages/ipykernel/kernelbase.py\", line 740, in execute_request\n\n  File \"/home/rutkowski/.local/lib/python3.10/site-packages/ipykernel/ipkernel.py\", line 422, in do_execute\n\n  File \"/home/rutkowski/.local/lib/python3.10/site-packages/ipykernel/zmqshell.py\", line 546, in run_cell\n\n  File \"/home/rutkowski/.local/lib/python3.10/site-packages/IPython/core/interactiveshell.py\", line 3024, in run_cell\n\n  File \"/home/rutkowski/.local/lib/python3.10/site-packages/IPython/core/interactiveshell.py\", line 3079, in _run_cell\n\n  File \"/home/rutkowski/.local/lib/python3.10/site-packages/IPython/core/async_helpers.py\", line 129, in _pseudo_sync_runner\n\n  File \"/home/rutkowski/.local/lib/python3.10/site-packages/IPython/core/interactiveshell.py\", line 3284, in run_cell_async\n\n  File \"/home/rutkowski/.local/lib/python3.10/site-packages/IPython/core/interactiveshell.py\", line 3466, in run_ast_nodes\n\n  File \"/home/rutkowski/.local/lib/python3.10/site-packages/IPython/core/interactiveshell.py\", line 3526, in run_code\n\n  File \"/tmp/ipykernel_2668249/1674949379.py\", line 4, in <module>\n\n  File \"/home/rutkowski/dissertation/common_utils/search.py\", line 65, in test_configs\n\n  File \"/home/rutkowski/.local/lib/python3.10/site-packages/keras/src/utils/traceback_utils.py\", line 65, in error_handler\n\n  File \"/home/rutkowski/.local/lib/python3.10/site-packages/keras/src/engine/training.py\", line 1783, in fit\n\n  File \"/home/rutkowski/.local/lib/python3.10/site-packages/keras/src/engine/training.py\", line 1377, in train_function\n\n  File \"/home/rutkowski/.local/lib/python3.10/site-packages/keras/src/engine/training.py\", line 1360, in step_function\n\n  File \"/home/rutkowski/.local/lib/python3.10/site-packages/keras/src/engine/training.py\", line 1349, in run_step\n\n  File \"/home/rutkowski/.local/lib/python3.10/site-packages/keras/src/engine/training.py\", line 1126, in train_step\n\n  File \"/home/rutkowski/.local/lib/python3.10/site-packages/keras/src/utils/traceback_utils.py\", line 65, in error_handler\n\n  File \"/home/rutkowski/.local/lib/python3.10/site-packages/keras/src/engine/training.py\", line 589, in __call__\n\n  File \"/home/rutkowski/.local/lib/python3.10/site-packages/keras/src/utils/traceback_utils.py\", line 65, in error_handler\n\n  File \"/home/rutkowski/.local/lib/python3.10/site-packages/keras/src/engine/base_layer.py\", line 1149, in __call__\n\n  File \"/home/rutkowski/.local/lib/python3.10/site-packages/keras/src/utils/traceback_utils.py\", line 96, in error_handler\n\n  File \"/home/rutkowski/.local/lib/python3.10/site-packages/keras/src/engine/sequential.py\", line 398, in call\n\n  File \"/home/rutkowski/.local/lib/python3.10/site-packages/keras/src/engine/functional.py\", line 515, in call\n\n  File \"/home/rutkowski/.local/lib/python3.10/site-packages/keras/src/engine/functional.py\", line 672, in _run_internal_graph\n\n  File \"/home/rutkowski/.local/lib/python3.10/site-packages/keras/src/utils/traceback_utils.py\", line 65, in error_handler\n\n  File \"/home/rutkowski/.local/lib/python3.10/site-packages/keras/src/engine/base_layer.py\", line 1149, in __call__\n\n  File \"/home/rutkowski/.local/lib/python3.10/site-packages/keras/src/utils/traceback_utils.py\", line 96, in error_handler\n\n  File \"/home/rutkowski/.local/lib/python3.10/site-packages/cvnn/layers/core.py\", line 290, in call\n\nAttempting to perform BLAS operation using StreamExecutor without BLAS support\n\t [[{{node sequential/complex_dense_1/MatMul}}]] [Op:__inference_train_function_1418]",
     "output_type": "error",
     "traceback": [
      "\u001b[0;31m---------------------------------------------------------------------------\u001b[0m",
      "\u001b[0;31mInternalError\u001b[0m                             Traceback (most recent call last)",
      "\u001b[1;32m/home/rutkowski/dissertation/common_utils_test.ipynb Cell 5\u001b[0m line \u001b[0;36m4\n\u001b[1;32m      <a href='vscode-notebook-cell://ssh-remote%2Brutkowski.cernprodgpu/home/rutkowski/dissertation/common_utils_test.ipynb#W5sdnNjb2RlLXJlbW90ZQ%3D%3D?line=0'>1</a>\u001b[0m \u001b[39mimport\u001b[39;00m \u001b[39mcvnn\u001b[39;00m\u001b[39m.\u001b[39;00m\u001b[39mlayers\u001b[39;00m \u001b[39mas\u001b[39;00m \u001b[39mcomplex_layers\u001b[39;00m\n\u001b[1;32m      <a href='vscode-notebook-cell://ssh-remote%2Brutkowski.cernprodgpu/home/rutkowski/dissertation/common_utils_test.ipynb#W5sdnNjb2RlLXJlbW90ZQ%3D%3D?line=1'>2</a>\u001b[0m \u001b[39mfrom\u001b[39;00m \u001b[39mcommon_utils\u001b[39;00m\u001b[39m.\u001b[39;00m\u001b[39mmodel\u001b[39;00m \u001b[39mimport\u001b[39;00m FreeMemory\n\u001b[0;32m----> <a href='vscode-notebook-cell://ssh-remote%2Brutkowski.cernprodgpu/home/rutkowski/dissertation/common_utils_test.ipynb#W5sdnNjb2RlLXJlbW90ZQ%3D%3D?line=3'>4</a>\u001b[0m configs_tester\u001b[39m.\u001b[39;49mtest_configs(y_data\u001b[39m=\u001b[39;49mq_labels, \n\u001b[1;32m      <a href='vscode-notebook-cell://ssh-remote%2Brutkowski.cernprodgpu/home/rutkowski/dissertation/common_utils_test.ipynb#W5sdnNjb2RlLXJlbW90ZQ%3D%3D?line=4'>5</a>\u001b[0m                             output_layer\u001b[39m=\u001b[39;49mcomplex_layers\u001b[39m.\u001b[39;49mComplexDense(units\u001b[39m=\u001b[39;49mCLASSES_NUM, activation\u001b[39m=\u001b[39;49m\u001b[39m'\u001b[39;49m\u001b[39msigmoid_real\u001b[39;49m\u001b[39m'\u001b[39;49m), \n\u001b[1;32m      <a href='vscode-notebook-cell://ssh-remote%2Brutkowski.cernprodgpu/home/rutkowski/dissertation/common_utils_test.ipynb#W5sdnNjb2RlLXJlbW90ZQ%3D%3D?line=5'>6</a>\u001b[0m                             optimizer\u001b[39m=\u001b[39;49mtf\u001b[39m.\u001b[39;49mkeras\u001b[39m.\u001b[39;49moptimizers\u001b[39m.\u001b[39;49mSGD(clipnorm\u001b[39m=\u001b[39;49m\u001b[39m1.\u001b[39;49m), \n\u001b[1;32m      <a href='vscode-notebook-cell://ssh-remote%2Brutkowski.cernprodgpu/home/rutkowski/dissertation/common_utils_test.ipynb#W5sdnNjb2RlLXJlbW90ZQ%3D%3D?line=6'>7</a>\u001b[0m                             loss\u001b[39m=\u001b[39;49m\u001b[39m'\u001b[39;49m\u001b[39mbinary_crossentropy\u001b[39;49m\u001b[39m'\u001b[39;49m, \n\u001b[1;32m      <a href='vscode-notebook-cell://ssh-remote%2Brutkowski.cernprodgpu/home/rutkowski/dissertation/common_utils_test.ipynb#W5sdnNjb2RlLXJlbW90ZQ%3D%3D?line=7'>8</a>\u001b[0m                             epochs\u001b[39m=\u001b[39;49m\u001b[39m250\u001b[39;49m, \n\u001b[1;32m      <a href='vscode-notebook-cell://ssh-remote%2Brutkowski.cernprodgpu/home/rutkowski/dissertation/common_utils_test.ipynb#W5sdnNjb2RlLXJlbW90ZQ%3D%3D?line=8'>9</a>\u001b[0m                             callbacks\u001b[39m=\u001b[39;49m[FreeMemory(\u001b[39m10\u001b[39;49m)], \n\u001b[1;32m     <a href='vscode-notebook-cell://ssh-remote%2Brutkowski.cernprodgpu/home/rutkowski/dissertation/common_utils_test.ipynb#W5sdnNjb2RlLXJlbW90ZQ%3D%3D?line=9'>10</a>\u001b[0m                             x_data_dir \u001b[39m=\u001b[39;49m \u001b[39m'\u001b[39;49m\u001b[39m/home/rutkowski/dissertation/proccessed_data/\u001b[39;49m\u001b[39m'\u001b[39;49m)\n",
      "File \u001b[0;32m~/dissertation/common_utils/search.py:65\u001b[0m, in \u001b[0;36mConfigsTester.test_configs\u001b[0;34m(self, y_data, output_layer, optimizer, loss, epochs, callbacks, verbose, x_data_dir)\u001b[0m\n\u001b[1;32m     63\u001b[0m points \u001b[39m=\u001b[39m np\u001b[39m.\u001b[39mload(x_data_dir \u001b[39m+\u001b[39m \u001b[39m'\u001b[39m\u001b[39mpoints_\u001b[39m\u001b[39m'\u001b[39m \u001b[39m+\u001b[39m \u001b[39mstr\u001b[39m(config[\u001b[39mself\u001b[39m\u001b[39m.\u001b[39mparam[\u001b[39m'\u001b[39m\u001b[39mspacepoints_number\u001b[39m\u001b[39m'\u001b[39m]]) \u001b[39m+\u001b[39m \u001b[39m'\u001b[39m\u001b[39m.npy\u001b[39m\u001b[39m'\u001b[39m)\n\u001b[1;32m     64\u001b[0m \u001b[39mprint\u001b[39m(\u001b[39m'\u001b[39m\u001b[39m      training...\u001b[39m\u001b[39m'\u001b[39m)\n\u001b[0;32m---> 65\u001b[0m history \u001b[39m=\u001b[39m model\u001b[39m.\u001b[39;49mfit(points, y_data, epochs\u001b[39m=\u001b[39;49mepochs, validation_split\u001b[39m=\u001b[39;49m\u001b[39m0.2\u001b[39;49m, verbose\u001b[39m=\u001b[39;49m\u001b[39m0\u001b[39;49m, callbacks\u001b[39m=\u001b[39;49mcallbacks)\n\u001b[1;32m     66\u001b[0m \u001b[39mprint\u001b[39m(\u001b[39m'\u001b[39m\u001b[39m      model trained\u001b[39m\u001b[39m'\u001b[39m)\n\u001b[1;32m     67\u001b[0m df \u001b[39m=\u001b[39m make_dataframe(history)\n",
      "File \u001b[0;32m~/.local/lib/python3.10/site-packages/keras/src/utils/traceback_utils.py:70\u001b[0m, in \u001b[0;36mfilter_traceback.<locals>.error_handler\u001b[0;34m(*args, **kwargs)\u001b[0m\n\u001b[1;32m     67\u001b[0m     filtered_tb \u001b[39m=\u001b[39m _process_traceback_frames(e\u001b[39m.\u001b[39m__traceback__)\n\u001b[1;32m     68\u001b[0m     \u001b[39m# To get the full stack trace, call:\u001b[39;00m\n\u001b[1;32m     69\u001b[0m     \u001b[39m# `tf.debugging.disable_traceback_filtering()`\u001b[39;00m\n\u001b[0;32m---> 70\u001b[0m     \u001b[39mraise\u001b[39;00m e\u001b[39m.\u001b[39mwith_traceback(filtered_tb) \u001b[39mfrom\u001b[39;00m \u001b[39mNone\u001b[39;00m\n\u001b[1;32m     71\u001b[0m \u001b[39mfinally\u001b[39;00m:\n\u001b[1;32m     72\u001b[0m     \u001b[39mdel\u001b[39;00m filtered_tb\n",
      "File \u001b[0;32m~/.local/lib/python3.10/site-packages/tensorflow/python/eager/execute.py:60\u001b[0m, in \u001b[0;36mquick_execute\u001b[0;34m(op_name, num_outputs, inputs, attrs, ctx, name)\u001b[0m\n\u001b[1;32m     53\u001b[0m   \u001b[39m# Convert any objects of type core_types.Tensor to Tensor.\u001b[39;00m\n\u001b[1;32m     54\u001b[0m   inputs \u001b[39m=\u001b[39m [\n\u001b[1;32m     55\u001b[0m       tensor_conversion_registry\u001b[39m.\u001b[39mconvert(t)\n\u001b[1;32m     56\u001b[0m       \u001b[39mif\u001b[39;00m \u001b[39misinstance\u001b[39m(t, core_types\u001b[39m.\u001b[39mTensor)\n\u001b[1;32m     57\u001b[0m       \u001b[39melse\u001b[39;00m t\n\u001b[1;32m     58\u001b[0m       \u001b[39mfor\u001b[39;00m t \u001b[39min\u001b[39;00m inputs\n\u001b[1;32m     59\u001b[0m   ]\n\u001b[0;32m---> 60\u001b[0m   tensors \u001b[39m=\u001b[39m pywrap_tfe\u001b[39m.\u001b[39mTFE_Py_Execute(ctx\u001b[39m.\u001b[39m_handle, device_name, op_name,\n\u001b[1;32m     61\u001b[0m                                       inputs, attrs, num_outputs)\n\u001b[1;32m     62\u001b[0m \u001b[39mexcept\u001b[39;00m core\u001b[39m.\u001b[39m_NotOkStatusException \u001b[39mas\u001b[39;00m e:\n\u001b[1;32m     63\u001b[0m   \u001b[39mif\u001b[39;00m name \u001b[39mis\u001b[39;00m \u001b[39mnot\u001b[39;00m \u001b[39mNone\u001b[39;00m:\n",
      "\u001b[0;31mInternalError\u001b[0m: Graph execution error:\n\nDetected at node sequential/complex_dense_1/MatMul defined at (most recent call last):\n  File \"/usr/lib/python3.10/runpy.py\", line 196, in _run_module_as_main\n\n  File \"/usr/lib/python3.10/runpy.py\", line 86, in _run_code\n\n  File \"/home/rutkowski/.local/lib/python3.10/site-packages/ipykernel_launcher.py\", line 17, in <module>\n\n  File \"/home/rutkowski/.local/lib/python3.10/site-packages/traitlets/config/application.py\", line 1053, in launch_instance\n\n  File \"/home/rutkowski/.local/lib/python3.10/site-packages/ipykernel/kernelapp.py\", line 736, in start\n\n  File \"/home/rutkowski/.local/lib/python3.10/site-packages/tornado/platform/asyncio.py\", line 195, in start\n\n  File \"/usr/lib/python3.10/asyncio/base_events.py\", line 603, in run_forever\n\n  File \"/usr/lib/python3.10/asyncio/base_events.py\", line 1909, in _run_once\n\n  File \"/usr/lib/python3.10/asyncio/events.py\", line 80, in _run\n\n  File \"/home/rutkowski/.local/lib/python3.10/site-packages/ipykernel/kernelbase.py\", line 516, in dispatch_queue\n\n  File \"/home/rutkowski/.local/lib/python3.10/site-packages/ipykernel/kernelbase.py\", line 505, in process_one\n\n  File \"/home/rutkowski/.local/lib/python3.10/site-packages/ipykernel/kernelbase.py\", line 412, in dispatch_shell\n\n  File \"/home/rutkowski/.local/lib/python3.10/site-packages/ipykernel/kernelbase.py\", line 740, in execute_request\n\n  File \"/home/rutkowski/.local/lib/python3.10/site-packages/ipykernel/ipkernel.py\", line 422, in do_execute\n\n  File \"/home/rutkowski/.local/lib/python3.10/site-packages/ipykernel/zmqshell.py\", line 546, in run_cell\n\n  File \"/home/rutkowski/.local/lib/python3.10/site-packages/IPython/core/interactiveshell.py\", line 3024, in run_cell\n\n  File \"/home/rutkowski/.local/lib/python3.10/site-packages/IPython/core/interactiveshell.py\", line 3079, in _run_cell\n\n  File \"/home/rutkowski/.local/lib/python3.10/site-packages/IPython/core/async_helpers.py\", line 129, in _pseudo_sync_runner\n\n  File \"/home/rutkowski/.local/lib/python3.10/site-packages/IPython/core/interactiveshell.py\", line 3284, in run_cell_async\n\n  File \"/home/rutkowski/.local/lib/python3.10/site-packages/IPython/core/interactiveshell.py\", line 3466, in run_ast_nodes\n\n  File \"/home/rutkowski/.local/lib/python3.10/site-packages/IPython/core/interactiveshell.py\", line 3526, in run_code\n\n  File \"/tmp/ipykernel_2668249/1674949379.py\", line 4, in <module>\n\n  File \"/home/rutkowski/dissertation/common_utils/search.py\", line 65, in test_configs\n\n  File \"/home/rutkowski/.local/lib/python3.10/site-packages/keras/src/utils/traceback_utils.py\", line 65, in error_handler\n\n  File \"/home/rutkowski/.local/lib/python3.10/site-packages/keras/src/engine/training.py\", line 1783, in fit\n\n  File \"/home/rutkowski/.local/lib/python3.10/site-packages/keras/src/engine/training.py\", line 1377, in train_function\n\n  File \"/home/rutkowski/.local/lib/python3.10/site-packages/keras/src/engine/training.py\", line 1360, in step_function\n\n  File \"/home/rutkowski/.local/lib/python3.10/site-packages/keras/src/engine/training.py\", line 1349, in run_step\n\n  File \"/home/rutkowski/.local/lib/python3.10/site-packages/keras/src/engine/training.py\", line 1126, in train_step\n\n  File \"/home/rutkowski/.local/lib/python3.10/site-packages/keras/src/utils/traceback_utils.py\", line 65, in error_handler\n\n  File \"/home/rutkowski/.local/lib/python3.10/site-packages/keras/src/engine/training.py\", line 589, in __call__\n\n  File \"/home/rutkowski/.local/lib/python3.10/site-packages/keras/src/utils/traceback_utils.py\", line 65, in error_handler\n\n  File \"/home/rutkowski/.local/lib/python3.10/site-packages/keras/src/engine/base_layer.py\", line 1149, in __call__\n\n  File \"/home/rutkowski/.local/lib/python3.10/site-packages/keras/src/utils/traceback_utils.py\", line 96, in error_handler\n\n  File \"/home/rutkowski/.local/lib/python3.10/site-packages/keras/src/engine/sequential.py\", line 398, in call\n\n  File \"/home/rutkowski/.local/lib/python3.10/site-packages/keras/src/engine/functional.py\", line 515, in call\n\n  File \"/home/rutkowski/.local/lib/python3.10/site-packages/keras/src/engine/functional.py\", line 672, in _run_internal_graph\n\n  File \"/home/rutkowski/.local/lib/python3.10/site-packages/keras/src/utils/traceback_utils.py\", line 65, in error_handler\n\n  File \"/home/rutkowski/.local/lib/python3.10/site-packages/keras/src/engine/base_layer.py\", line 1149, in __call__\n\n  File \"/home/rutkowski/.local/lib/python3.10/site-packages/keras/src/utils/traceback_utils.py\", line 96, in error_handler\n\n  File \"/home/rutkowski/.local/lib/python3.10/site-packages/cvnn/layers/core.py\", line 290, in call\n\nAttempting to perform BLAS operation using StreamExecutor without BLAS support\n\t [[{{node sequential/complex_dense_1/MatMul}}]] [Op:__inference_train_function_1418]"
     ]
    }
   ],
   "source": [
    "import cvnn.layers as complex_layers\n",
    "from common.model import FreeMemory\n",
    "\n",
    "configs_tester.test_configs(y_data=q_labels, \n",
    "                            output_layer=complex_layers.ComplexDense(units=CLASSES_NUM, activation='sigmoid_real'), \n",
    "                            optimizer=tf.keras.optimizers.SGD(clipnorm=1.), \n",
    "                            loss='binary_crossentropy', \n",
    "                            epochs=25, \n",
    "                            callbacks=[FreeMemory(10)], \n",
    "                            x_data_dir = '/home/rutkowski/dissertation/proccessed_data/')"
   ]
  }
 ],
 "metadata": {
  "kernelspec": {
   "display_name": "Python 3",
   "language": "python",
   "name": "python3"
  },
  "language_info": {
   "codemirror_mode": {
    "name": "ipython",
    "version": 3
   },
   "file_extension": ".py",
   "mimetype": "text/x-python",
   "name": "python",
   "nbconvert_exporter": "python",
   "pygments_lexer": "ipython3",
   "version": "3.10.12"
  }
 },
 "nbformat": 4,
 "nbformat_minor": 2
}
