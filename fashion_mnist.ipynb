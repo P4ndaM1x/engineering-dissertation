{
 "cells": [
  {
   "cell_type": "markdown",
   "metadata": {},
   "source": [
    "# Fashion MNIST"
   ]
  },
  {
   "cell_type": "code",
   "execution_count": 1,
   "metadata": {},
   "outputs": [
    {
     "name": "stderr",
     "output_type": "stream",
     "text": [
      "2023-09-27 12:19:54.068477: I tensorflow/core/platform/cpu_feature_guard.cc:182] This TensorFlow binary is optimized to use available CPU instructions in performance-critical operations.\n",
      "To enable the following instructions: AVX2 FMA, in other operations, rebuild TensorFlow with the appropriate compiler flags.\n"
     ]
    },
    {
     "name": "stdout",
     "output_type": "stream",
     "text": [
      "[PhysicalDevice(name='/physical_device:CPU:0', device_type='CPU'), PhysicalDevice(name='/physical_device:GPU:0', device_type='GPU')]\n"
     ]
    },
    {
     "name": "stderr",
     "output_type": "stream",
     "text": [
      "2023-09-27 12:19:55.491828: I tensorflow/compiler/xla/stream_executor/cuda/cuda_gpu_executor.cc:981] could not open file to read NUMA node: /sys/bus/pci/devices/0000:01:00.0/numa_node\n",
      "Your kernel may have been built without NUMA support.\n",
      "2023-09-27 12:19:55.496762: I tensorflow/compiler/xla/stream_executor/cuda/cuda_gpu_executor.cc:981] could not open file to read NUMA node: /sys/bus/pci/devices/0000:01:00.0/numa_node\n",
      "Your kernel may have been built without NUMA support.\n",
      "2023-09-27 12:19:55.497028: I tensorflow/compiler/xla/stream_executor/cuda/cuda_gpu_executor.cc:981] could not open file to read NUMA node: /sys/bus/pci/devices/0000:01:00.0/numa_node\n",
      "Your kernel may have been built without NUMA support.\n"
     ]
    }
   ],
   "source": [
    "import tensorflow as tf\n",
    "print(tf.config.list_physical_devices())"
   ]
  },
  {
   "cell_type": "code",
   "execution_count": 6,
   "metadata": {},
   "outputs": [
    {
     "name": "stdout",
     "output_type": "stream",
     "text": [
      "Downloading data from https://storage.googleapis.com/tensorflow/tf-keras-datasets/train-labels-idx1-ubyte.gz\n",
      "29515/29515 [==============================] - 0s 1us/step\n",
      "Downloading data from https://storage.googleapis.com/tensorflow/tf-keras-datasets/train-images-idx3-ubyte.gz\n",
      "26421880/26421880 [==============================] - 2s 0us/step\n",
      "Downloading data from https://storage.googleapis.com/tensorflow/tf-keras-datasets/t10k-labels-idx1-ubyte.gz\n",
      "5148/5148 [==============================] - 0s 0us/step\n",
      "Downloading data from https://storage.googleapis.com/tensorflow/tf-keras-datasets/t10k-images-idx3-ubyte.gz\n",
      "4422102/4422102 [==============================] - 0s 0us/step\n"
     ]
    }
   ],
   "source": [
    "fashion_mnist = tf.keras.datasets.fashion_mnist\n",
    "\n",
    "(train_images, train_labels), (test_images, test_labels) = fashion_mnist.load_data()\n",
    "\n",
    "class_names = ['T-shirt/top', 'Trouser', 'Pullover', 'Dress', 'Coat',\n",
    "               'Sandal', 'Shirt', 'Sneaker', 'Bag', 'Ankle boot']"
   ]
  },
  {
   "cell_type": "code",
   "execution_count": 10,
   "metadata": {},
   "outputs": [
    {
     "name": "stdout",
     "output_type": "stream",
     "text": [
      "train_images: (60000, 28, 28)\n",
      "test_images: (10000, 28, 28)\n",
      "train_labels: [9 0 0 ... 3 0 5]\n",
      "test_labels: [9 2 1 ... 8 1 5]\n"
     ]
    }
   ],
   "source": [
    "print('train_images:', train_images.shape)\n",
    "print('test_images:', test_images.shape)\n",
    "print('train_labels:', train_labels)\n",
    "print('test_labels:', test_labels)"
   ]
  },
  {
   "cell_type": "code",
   "execution_count": null,
   "metadata": {},
   "outputs": [],
   "source": [
    "import matplotlib.pyplot as plt\n",
    "\n",
    "plt.figure()\n",
    "plt.imshow(train_images[0])\n",
    "plt.colorbar()\n",
    "plt.grid(False)\n",
    "plt.show()"
   ]
  },
  {
   "cell_type": "code",
   "execution_count": null,
   "metadata": {},
   "outputs": [],
   "source": [
    "EPOCH_NUM = 800\n",
    "VAL_RATIO = 0.2\n",
    "VERBOSE_LVL = 0\n",
    "\n",
    "from tensorflow.keras.optimizers import SGD, Adam\n",
    "OPTIMIZER = lambda: SGD(learning_rate=0.01, momentum=0.01)\n",
    "# OPTIMIZER = lambda: Adam()"
   ]
  },
  {
   "cell_type": "markdown",
   "metadata": {},
   "source": [
    "## CVNN"
   ]
  },
  {
   "cell_type": "code",
   "execution_count": null,
   "metadata": {},
   "outputs": [],
   "source": [
    "import cvnn.layers as complex_layers\n",
    "from cvnn.losses import ComplexMeanSquareError\n",
    "\n",
    "def make_cvnn_model(verbose = False):\n",
    "    model = tf.keras.models.Sequential()\n",
    "    model.add(complex_layers.ComplexInput(input_shape=(1,)))\n",
    "    model.add(complex_layers.ComplexDense(units=32, activation='cart_relu'))\n",
    "    model.add(complex_layers.ComplexDense(units=1, activation='linear'))\n",
    "    model.compile(loss=ComplexMeanSquareError(), optimizer=OPTIMIZER())\n",
    "    if verbose:\n",
    "        model.summary()\n",
    "    return model\n",
    "\n",
    "cvnn_model = make_cvnn_model(verbose=True)"
   ]
  },
  {
   "cell_type": "markdown",
   "metadata": {},
   "source": [
    "### Liczba parametrów w CVNN\n",
    "input: 1    -> 0\n",
    "\n",
    "dense: 32   -> 2 * (32 * (1 + 1)) = 128\n",
    "\n",
    "dense: 1    -> 2 * (1 * (32 + 1)) = 66\n",
    "\n",
    "            sum: 128 + 66  = 194"
   ]
  },
  {
   "cell_type": "code",
   "execution_count": null,
   "metadata": {},
   "outputs": [],
   "source": [
    "cvnn_history = cvnn_model.fit(np.array(data), expected_output, epochs=EPOCH_NUM, validation_split=VAL_RATIO, verbose=VERBOSE_LVL)"
   ]
  },
  {
   "cell_type": "code",
   "execution_count": null,
   "metadata": {},
   "outputs": [],
   "source": [
    "plot_loss_history(cvnn_history, \"CVNN\")"
   ]
  },
  {
   "cell_type": "markdown",
   "metadata": {},
   "source": [
    "## RVNN"
   ]
  },
  {
   "cell_type": "code",
   "execution_count": null,
   "metadata": {},
   "outputs": [],
   "source": [
    "def convert_to_cartesian(complex):\n",
    "    return np.array([(np.real(z), np.imag(z)) for z in complex])\n",
    "rvnn_input = convert_to_cartesian(data)\n",
    "rvnn_output = convert_to_cartesian(expected_output)"
   ]
  },
  {
   "cell_type": "code",
   "execution_count": null,
   "metadata": {},
   "outputs": [],
   "source": [
    "from tensorflow.keras.losses import MeanSquaredError\n",
    "\n",
    "def make_rvnn_model(verbose = False):\n",
    "    model = tf.keras.models.Sequential()\n",
    "    model.add(tf.keras.layers.Input(shape=(2,)))\n",
    "    model.add(tf.keras.layers.Dense(38, activation='relu'))\n",
    "    model.add(tf.keras.layers.Dense(2))\n",
    "    model.compile(loss=MeanSquaredError(), optimizer=OPTIMIZER())\n",
    "    if verbose:\n",
    "        model.summary()\n",
    "    return model\n",
    "\n",
    "rvnn_model = make_rvnn_model(verbose=True)"
   ]
  },
  {
   "cell_type": "markdown",
   "metadata": {},
   "source": [
    "### Liczba parametrów w RVNN\n",
    "input: 2    -> 0\n",
    "\n",
    "dense: 77   -> 77 * (2 + 1) = 231\n",
    "\n",
    "dense: 2    -> 2 * (77 + 1) = 156\n",
    "\n",
    "            sum: 231 + 156  = 387"
   ]
  },
  {
   "cell_type": "code",
   "execution_count": null,
   "metadata": {},
   "outputs": [],
   "source": [
    "rvnn_history = rvnn_model.fit(rvnn_input, rvnn_output, epochs=EPOCH_NUM, validation_split=VAL_RATIO, verbose=VERBOSE_LVL)"
   ]
  },
  {
   "cell_type": "code",
   "execution_count": null,
   "metadata": {},
   "outputs": [],
   "source": [
    "plot_loss_history(rvnn_history, \"RVNN\")"
   ]
  },
  {
   "cell_type": "markdown",
   "metadata": {},
   "source": [
    "## Comparision"
   ]
  },
  {
   "cell_type": "code",
   "execution_count": null,
   "metadata": {},
   "outputs": [],
   "source": [
    "plot_loss_history_comparision(rvnn_history, cvnn_history, 2)"
   ]
  },
  {
   "cell_type": "code",
   "execution_count": null,
   "metadata": {},
   "outputs": [],
   "source": [
    "# learning_rate_list = [0.005, 0.01, 0.02]\n",
    "# momentum_list = [0., 0.01, 0.05, 0.2]\n",
    "\n",
    "# for learning_rate in learning_rate_list:\n",
    "#     for momentum in momentum_list:\n",
    "#         OPTIMIZER = lambda: SGD(jit_compile=True, learning_rate=learning_rate, momentum=momentum)\n",
    "        \n",
    "#         rvnn_model = make_rvnn_model()\n",
    "#         rvnn_model.compile(loss=MeanSquaredError(), optimizer=OPTIMIZER())\n",
    "#         rvnn_history = rvnn_model.fit(rvnn_input, rvnn_output, epochs=EPOCH_NUM, validation_split=VAL_RATIO, verbose=VERBOSE_LVL)\n",
    "        \n",
    "#         cvnn_model = make_cvnn_model()\n",
    "#         cvnn_model.compile(loss=ComplexMeanSquareError(), optimizer=OPTIMIZER())\n",
    "#         cvnn_history = cvnn_model.fit(np.array(data), expected_output, epochs=EPOCH_NUM, validation_split=VAL_RATIO, verbose=VERBOSE_LVL)\n",
    "        \n",
    "#         print(f'macro parameters: learning_rate={learning_rate}, momentum={momentum}')\n",
    "#         plot_loss_history_comparision(rvnn_history, cvnn_history, 2)"
   ]
  }
 ],
 "metadata": {
  "kernelspec": {
   "display_name": "Python 3 (ipykernel)",
   "language": "python",
   "name": "python3"
  },
  "language_info": {
   "codemirror_mode": {
    "name": "ipython",
    "version": 3
   },
   "file_extension": ".py",
   "mimetype": "text/x-python",
   "name": "python",
   "nbconvert_exporter": "python",
   "pygments_lexer": "ipython3",
   "version": "3.8.10"
  },
  "orig_nbformat": 4
 },
 "nbformat": 4,
 "nbformat_minor": 2
}
