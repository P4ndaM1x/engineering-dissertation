{
 "cells": [
  {
   "cell_type": "code",
   "execution_count": 1,
   "metadata": {},
   "outputs": [],
   "source": [
    "import sys\n",
    "ABS_ROOT_DIR_PATH = '/home/rutkowski/dissertation/' #'/host/dissertation/'\n",
    "if ABS_ROOT_DIR_PATH not in sys.path:\n",
    "    sys.path.append(ABS_ROOT_DIR_PATH)\n",
    "\n",
    "from common.exploration import print_count_and_percentage_stats\n",
    "import numpy as np"
   ]
  },
  {
   "cell_type": "code",
   "execution_count": 2,
   "metadata": {},
   "outputs": [],
   "source": [
    "q = np.load('q.npy')\n",
    "phi = np.load('phi.npy')\n",
    "pt = np.load('pt.npy')\n",
    "\n",
    "validation_split = 0.2\n",
    "validation_len = int(validation_split*len(q))"
   ]
  },
  {
   "cell_type": "code",
   "execution_count": 3,
   "metadata": {},
   "outputs": [
    {
     "name": "stdout",
     "output_type": "stream",
     "text": [
      "q - training set stats\n",
      "counts:     {-1.0: 4071, 1.0: 4098}\n",
      "percentage: {-1.0: 49.83, 1.0: 50.17}\n",
      "\n",
      "q - validation set stats\n",
      "counts:     {-1.0: 807, 1.0: 826}\n",
      "percentage: {-1.0: 49.42, 1.0: 50.58}\n"
     ]
    }
   ],
   "source": [
    "print_count_and_percentage_stats(q, 'q', tail_filter=validation_len)"
   ]
  }
 ],
 "metadata": {
  "kernelspec": {
   "display_name": "Python 3",
   "language": "python",
   "name": "python3"
  },
  "language_info": {
   "codemirror_mode": {
    "name": "ipython",
    "version": 3
   },
   "file_extension": ".py",
   "mimetype": "text/x-python",
   "name": "python",
   "nbconvert_exporter": "python",
   "pygments_lexer": "ipython3",
   "version": "3.10.12"
  }
 },
 "nbformat": 4,
 "nbformat_minor": 2
}
