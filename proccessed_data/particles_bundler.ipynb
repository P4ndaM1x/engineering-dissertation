{
 "cells": [
  {
   "cell_type": "code",
   "execution_count": 207,
   "metadata": {},
   "outputs": [],
   "source": [
    "PROCCESSED_DATA_DIRECTORY = '/host/dissertation/proccessed_data/'\n",
    "MAX_POINTS_NUM = 10\n",
    "SAVED_POINTS_NUMS = (3,6,8,MAX_POINTS_NUM)"
   ]
  },
  {
   "cell_type": "code",
   "execution_count": 208,
   "metadata": {},
   "outputs": [
    {
     "name": "stdout",
     "output_type": "stream",
     "text": [
      "[[ 0.00000000e+00 -2.07658215e+01  2.53001633e+01  2.25652742e+00\n",
      "   6.99481201e+00 -1.00000000e+00]\n",
      " [ 0.00000000e+00 -4.30311394e+01  5.22786179e+01  2.25652742e+00\n",
      "   6.99481201e+00 -1.00000000e+00]\n",
      " [ 0.00000000e+00 -4.40572853e+01  5.35139160e+01  2.25652742e+00\n",
      "   6.99481201e+00 -1.00000000e+00]\n",
      " ...\n",
      " [ 9.99900000e+03  3.09907928e+02  1.57217087e+02  4.92932558e-01\n",
      "   4.42384100e+00  1.00000000e+00]\n",
      " [ 9.99900000e+03  2.69411377e+02  1.37617249e+02  4.92932558e-01\n",
      "   4.42384100e+00  1.00000000e+00]\n",
      " [ 9.99900000e+03  2.28952026e+02  1.17901054e+02  4.92932558e-01\n",
      "   4.42384100e+00  1.00000000e+00]]\n"
     ]
    }
   ],
   "source": [
    "import numpy as np\n",
    "raw_data = np.load(PROCCESSED_DATA_DIRECTORY + 'x_y_phi_pt_q.npy')\n",
    "print(raw_data)"
   ]
  },
  {
   "cell_type": "code",
   "execution_count": 209,
   "metadata": {},
   "outputs": [
    {
     "name": "stderr",
     "output_type": "stream",
     "text": [
      "IOPub data rate exceeded.\n",
      "The Jupyter server will temporarily stop sending output\n",
      "to the client in order to avoid crashing it.\n",
      "To change this limit, set the config variable\n",
      "`--ServerApp.iopub_data_rate_limit`.\n",
      "\n",
      "Current values:\n",
      "ServerApp.iopub_data_rate_limit=1000000.0 (bytes/sec)\n",
      "ServerApp.rate_limit_window=3.0 (secs)\n",
      "\n"
     ]
    }
   ],
   "source": [
    "event_ids = np.unique(raw_data[:,0]).astype('int32')\n",
    "\n",
    "new_records = []\n",
    "for event_id in event_ids:\n",
    "    particle_data = raw_data[raw_data[:,0] == event_id][:,np.array([False, True, True, True, True, True])]\n",
    "    # particle_data = raw_data[raw_data[:,0] == event_id][:,np.array([False, True, True, True, True])]\n",
    "    if len(particle_data) < MAX_POINTS_NUM:\n",
    "        continue\n",
    "    order = np.argsort(np.abs(particle_data[:,0] + 1.j * particle_data[:,1]))\n",
    "    particle_data_sorted = particle_data[order]\n",
    "    new_record = []\n",
    "    for point in range(MAX_POINTS_NUM):\n",
    "        new_record.append(particle_data_sorted[point][0])\n",
    "        new_record.append(particle_data_sorted[point][1])\n",
    "    new_record.append(particle_data_sorted[-1][-3])\n",
    "    new_record.append(particle_data_sorted[-1][-2])\n",
    "    new_record.append(particle_data_sorted[-1][-1])\n",
    "    # new_record.append(particle_data_sorted[-1][-2])\n",
    "    # new_record.append(particle_data_sorted[-1][-1])\n",
    "    new_records.append(new_record)\n",
    "\n",
    "print(len(new_records))\n",
    "print(new_records)"
   ]
  },
  {
   "cell_type": "code",
   "execution_count": 210,
   "metadata": {},
   "outputs": [],
   "source": [
    "np.random.shuffle(new_records)"
   ]
  },
  {
   "cell_type": "code",
   "execution_count": 211,
   "metadata": {},
   "outputs": [],
   "source": [
    "data_x = []\n",
    "for record in new_records:\n",
    "    row = []\n",
    "    for i in range(0, 2*MAX_POINTS_NUM, 2):\n",
    "        row.append(record[i] + 1.j * record[i+1])\n",
    "    data_x.append(row)\n",
    "data_x =  np.asarray(data_x)\n",
    "\n",
    "data_y_phi = np.asarray(new_records)[:,-3]\n",
    "data_y_pt = np.asarray(new_records)[:,-2]\n",
    "data_y_q = np.asarray(new_records)[:,-1]\n",
    "data_y_pt_q = data_y_q/data_y_pt"
   ]
  },
  {
   "cell_type": "code",
   "execution_count": 212,
   "metadata": {},
   "outputs": [],
   "source": [
    "def save_npy_array(array, filename, verbose=1):\n",
    "    save_path = PROCCESSED_DATA_DIRECTORY + filename\n",
    "    np.save(save_path, array)\n",
    "    loaded_array = np.load(save_path)\n",
    "    if verbose <= 0:\n",
    "        return\n",
    "    if verbose == 1:\n",
    "        print(loaded_array)\n",
    "    if verbose == 2:\n",
    "        print(np.shape(loaded_array))"
   ]
  },
  {
   "cell_type": "code",
   "execution_count": 213,
   "metadata": {},
   "outputs": [
    {
     "name": "stdout",
     "output_type": "stream",
     "text": [
      "(8169, 3)\n",
      "(8169, 6)\n",
      "(8169, 8)\n",
      "(8169, 10)\n"
     ]
    }
   ],
   "source": [
    "for points_num in SAVED_POINTS_NUMS:\n",
    "    save_npy_array(data_x[:,:points_num], f'points_{points_num}.npy', verbose=2)"
   ]
  },
  {
   "cell_type": "code",
   "execution_count": 214,
   "metadata": {},
   "outputs": [
    {
     "name": "stdout",
     "output_type": "stream",
     "text": [
      "[-2.67052984  1.72607553  0.00935694 ... -1.40304995  2.46793151\n",
      " -1.33915484]\n"
     ]
    }
   ],
   "source": [
    "save_npy_array(data_y_phi, 'phi.npy')"
   ]
  },
  {
   "cell_type": "code",
   "execution_count": 215,
   "metadata": {},
   "outputs": [
    {
     "name": "stdout",
     "output_type": "stream",
     "text": [
      "[1.75958502 9.75883675 9.51316547 ... 6.34770918 3.52825427 1.95366895]\n"
     ]
    }
   ],
   "source": [
    "save_npy_array(data_y_pt, 'pt.npy')"
   ]
  },
  {
   "cell_type": "code",
   "execution_count": 216,
   "metadata": {},
   "outputs": [
    {
     "name": "stdout",
     "output_type": "stream",
     "text": [
      "[-1.  1. -1. ...  1.  1.  1.]\n"
     ]
    }
   ],
   "source": [
    "save_npy_array(data_y_q, 'q.npy')"
   ]
  }
 ],
 "metadata": {
  "kernelspec": {
   "display_name": "Python 3 (ipykernel)",
   "language": "python",
   "name": "python3"
  }
 },
 "nbformat": 4,
 "nbformat_minor": 2
}
