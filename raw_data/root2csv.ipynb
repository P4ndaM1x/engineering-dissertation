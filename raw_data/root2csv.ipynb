{
 "cells": [
  {
   "cell_type": "code",
   "execution_count": 1,
   "metadata": {},
   "outputs": [
    {
     "name": "stdout",
     "output_type": "stream",
     "text": [
      "Welcome to JupyROOT 6.28/04\n"
     ]
    }
   ],
   "source": [
    "import ROOT\n",
    "data_directory = 'ODD_Single_muon_10k'"
   ]
  },
  {
   "cell_type": "code",
   "execution_count": 2,
   "metadata": {},
   "outputs": [
    {
     "data": {
      "text/plain": [
       "Dataframe from TChain particles in file ODD_Single_muon_10k/particles_initial.root\n",
       "\n",
       "Property                Value\n",
       "--------                -----\n",
       "Columns in total           22\n",
       "Columns from defines        0\n",
       "Event loops run             0\n",
       "Processing slots            1\n",
       "\n",
       "Column                  Type                                    Origin\n",
       "------                  ----                                    ------\n",
       "eta                     ROOT::VecOps::RVec<float>               Dataset\n",
       "event_id                UInt_t                                  Dataset\n",
       "generation              ROOT::VecOps::RVec<unsigned int>        Dataset\n",
       "m                       ROOT::VecOps::RVec<float>               Dataset\n",
       "p                       ROOT::VecOps::RVec<float>               Dataset\n",
       "particle                ROOT::VecOps::RVec<unsigned int>        Dataset\n",
       "particle_id             ROOT::VecOps::RVec<unsigned long>       Dataset\n",
       "particle_type           ROOT::VecOps::RVec<int>                 Dataset\n",
       "phi                     ROOT::VecOps::RVec<float>               Dataset\n",
       "process                 ROOT::VecOps::RVec<unsigned int>        Dataset\n",
       "pt                      ROOT::VecOps::RVec<float>               Dataset\n",
       "px                      ROOT::VecOps::RVec<float>               Dataset\n",
       "py                      ROOT::VecOps::RVec<float>               Dataset\n",
       "pz                      ROOT::VecOps::RVec<float>               Dataset\n",
       "q                       ROOT::VecOps::RVec<float>               Dataset\n",
       "sub_particle            ROOT::VecOps::RVec<unsigned int>        Dataset\n",
       "vertex_primary          ROOT::VecOps::RVec<unsigned int>        Dataset\n",
       "vertex_secondary        ROOT::VecOps::RVec<unsigned int>        Dataset\n",
       "vt                      ROOT::VecOps::RVec<float>               Dataset\n",
       "vx                      ROOT::VecOps::RVec<float>               Dataset\n",
       "vy                      ROOT::VecOps::RVec<float>               Dataset\n",
       "vz                      ROOT::VecOps::RVec<float>               Dataset"
      ]
     },
     "execution_count": 2,
     "metadata": {},
     "output_type": "execute_result"
    }
   ],
   "source": [
    "particles_initial_df = ROOT.RDataFrame('particles', data_directory + '/particles_initial.root')\n",
    "particles_initial_df.Describe()"
   ]
  },
  {
   "cell_type": "code",
   "execution_count": 3,
   "metadata": {},
   "outputs": [
    {
     "name": "stdout",
     "output_type": "stream",
     "text": [
      "+-----+-----------+----------+------------+-----------+----------+----------+------------------+-----+\n",
      "| Row | eta       | event_id | generation | m         | p        | particle | particle_id      | ... | \n",
      "+-----+-----------+----------+------------+-----------+----------+----------+------------------+-----+\n",
      "| 0   | 0.329298f | 0        | 0          | 0.105658f | 7.37750f | 1        | 4503599644147712 | ... | \n",
      "+-----+-----------+----------+------------+-----------+----------+----------+------------------+-----+\n",
      "| 1   | -3.32074f | 1        | 0          | 0.105658f | 77.2110f | 1        | 4503599644147712 | ... | \n",
      "+-----+-----------+----------+------------+-----------+----------+----------+------------------+-----+\n",
      "| 2   | -1.18588f | 2        | 0          | 0.105658f | 7.37082f | 1        | 4503599644147712 | ... | \n",
      "+-----+-----------+----------+------------+-----------+----------+----------+------------------+-----+\n",
      "| 3   | 2.20573f  | 3        | 0          | 0.105658f | 6.71969f | 1        | 4503599644147712 | ... | \n",
      "+-----+-----------+----------+------------+-----------+----------+----------+------------------+-----+\n",
      "| 4   | -1.27260f | 4        | 0          | 0.105658f | 7.19737f | 1        | 4503599644147712 | ... | \n",
      "+-----+-----------+----------+------------+-----------+----------+----------+------------------+-----+\n"
     ]
    },
    {
     "name": "stderr",
     "output_type": "stream",
     "text": [
      "Info in <Print>: Only showing 8 columns out of 23\n",
      "\n"
     ]
    }
   ],
   "source": [
    "particles_initial_df.Display().Print()"
   ]
  },
  {
   "cell_type": "code",
   "execution_count": 4,
   "metadata": {},
   "outputs": [
    {
     "data": {
      "text/plain": [
       "Dataframe from TChain spacepoints in file ODD_Single_muon_10k/spacepoints.root\n",
       "\n",
       "Property                Value\n",
       "--------                -----\n",
       "Columns in total            8\n",
       "Columns from defines        0\n",
       "Event loops run             0\n",
       "Processing slots            1\n",
       "\n",
       "Column          Type            Origin\n",
       "------          ----            ------\n",
       "event_id        UInt_t          Dataset\n",
       "geometry_id     ULong64_t       Dataset\n",
       "measurement_id  ULong64_t       Dataset\n",
       "var_r           Float_t         Dataset\n",
       "var_z           Float_t         Dataset\n",
       "x               Float_t         Dataset\n",
       "y               Float_t         Dataset\n",
       "z               Float_t         Dataset"
      ]
     },
     "execution_count": 4,
     "metadata": {},
     "output_type": "execute_result"
    }
   ],
   "source": [
    "spacepoints_df = ROOT.RDataFrame('spacepoints', data_directory + '/spacepoints.root')\n",
    "spacepoints_df.Describe()"
   ]
  },
  {
   "cell_type": "code",
   "execution_count": 5,
   "metadata": {},
   "outputs": [
    {
     "name": "stdout",
     "output_type": "stream",
     "text": [
      "+-----+----------+---------------------+----------------+--------------+--------------+-----------+-----+\n",
      "| Row | event_id | geometry_id         | measurement_id | var_r        | var_z        | x         | ... | \n",
      "+-----+----------+---------------------+----------------+--------------+--------------+-----------+-----+\n",
      "| 0   | 0        | 1224979236083774208 | 0              | 4.21422e-05f | 0.000225000f | -20.7658f | ... | \n",
      "+-----+----------+---------------------+----------------+--------------+--------------+-----------+-----+\n",
      "| 1   | 0        | 1224979373522695680 | 1              | 3.73510e-07f | 0.000225000f | -43.0311f | ... | \n",
      "+-----+----------+---------------------+----------------+--------------+--------------+-----------+-----+\n",
      "| 2   | 0        | 1224979373522699264 | 2              | 4.15748e-05f | 0.000225000f | -44.0573f | ... | \n",
      "+-----+----------+---------------------+----------------+--------------+--------------+-----------+-----+\n",
      "| 3   | 0        | 1224979510961677824 | 3              | 2.12613e-05f | 0.000225000f | -73.0887f | ... | \n",
      "+-----+----------+---------------------+----------------+--------------+--------------+-----------+-----+\n",
      "| 4   | 0        | 1224979648400667136 | 4              | 1.11535e-05f | 0.000225000f | -108.637f | ... | \n",
      "+-----+----------+---------------------+----------------+--------------+--------------+-----------+-----+\n"
     ]
    },
    {
     "name": "stderr",
     "output_type": "stream",
     "text": [
      "Info in <Print>: Only showing 7 columns out of 9\n",
      "\n"
     ]
    }
   ],
   "source": [
    "spacepoints_df.Display().Print()"
   ]
  },
  {
   "cell_type": "code",
   "execution_count": 6,
   "metadata": {},
   "outputs": [],
   "source": [
    "import numpy as np"
   ]
  },
  {
   "cell_type": "code",
   "execution_count": 7,
   "metadata": {},
   "outputs": [],
   "source": [
    "particles_initial_data = particles_initial_df.AsNumpy()\n",
    "particles_initial_column_names = particles_initial_data.keys()\n",
    "with open(data_directory + '/particles_initial.csv', 'w') as csvfile:\n",
    "    csvfile.write(','.join(particles_initial_column_names) + ',\\n')\n",
    "    for i in range(len(particles_initial_data['event_id'])):\n",
    "        for column in particles_initial_column_names:\n",
    "            if column == 'event_id':\n",
    "                csvfile.write(f'{particles_initial_data[column][i]},')\n",
    "                continue\n",
    "            csvfile.write(f'{particles_initial_data[column][i][0]},')\n",
    "        csvfile.write('\\n')"
   ]
  },
  {
   "cell_type": "code",
   "execution_count": 8,
   "metadata": {},
   "outputs": [],
   "source": [
    "spacepoints_data = spacepoints_df.AsNumpy()\n",
    "spacepoints_data_column_names = spacepoints_data.keys()\n",
    "with open(data_directory + '/spacepoints.csv', 'w') as csvfile:\n",
    "    csvfile.write(','.join(spacepoints_data_column_names) + ',\\n')\n",
    "    for i in range(len(spacepoints_data['event_id'])):\n",
    "        for column in spacepoints_data_column_names:\n",
    "            csvfile.write(f'{spacepoints_data[column][i]},')\n",
    "        csvfile.write('\\n')"
   ]
  }
 ],
 "metadata": {
  "kernelspec": {
   "display_name": "my_root_env",
   "language": "python",
   "name": "python3"
  },
  "language_info": {
   "codemirror_mode": {
    "name": "ipython",
    "version": 3
   },
   "file_extension": ".py",
   "mimetype": "text/x-python",
   "name": "python",
   "nbconvert_exporter": "python",
   "pygments_lexer": "ipython3",
   "version": "3.11.6"
  }
 },
 "nbformat": 4,
 "nbformat_minor": 2
}
