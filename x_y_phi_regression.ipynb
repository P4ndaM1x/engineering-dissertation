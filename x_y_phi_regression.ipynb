{
 "cells": [
  {
   "cell_type": "code",
   "execution_count": 1,
   "metadata": {},
   "outputs": [
    {
     "name": "stderr",
     "output_type": "stream",
     "text": [
      "2023-10-14 15:04:32.772721: I tensorflow/core/platform/cpu_feature_guard.cc:182] This TensorFlow binary is optimized to use available CPU instructions in performance-critical operations.\n",
      "To enable the following instructions: AVX2 FMA, in other operations, rebuild TensorFlow with the appropriate compiler flags.\n"
     ]
    },
    {
     "name": "stdout",
     "output_type": "stream",
     "text": [
      "[PhysicalDevice(name='/physical_device:CPU:0', device_type='CPU'), PhysicalDevice(name='/physical_device:GPU:0', device_type='GPU')]\n"
     ]
    },
    {
     "name": "stderr",
     "output_type": "stream",
     "text": [
      "2023-10-14 15:04:35.527432: I tensorflow/compiler/xla/stream_executor/cuda/cuda_gpu_executor.cc:981] could not open file to read NUMA node: /sys/bus/pci/devices/0000:01:00.0/numa_node\n",
      "Your kernel may have been built without NUMA support.\n",
      "2023-10-14 15:04:35.545563: I tensorflow/compiler/xla/stream_executor/cuda/cuda_gpu_executor.cc:981] could not open file to read NUMA node: /sys/bus/pci/devices/0000:01:00.0/numa_node\n",
      "Your kernel may have been built without NUMA support.\n",
      "2023-10-14 15:04:35.545811: I tensorflow/compiler/xla/stream_executor/cuda/cuda_gpu_executor.cc:981] could not open file to read NUMA node: /sys/bus/pci/devices/0000:01:00.0/numa_node\n",
      "Your kernel may have been built without NUMA support.\n"
     ]
    }
   ],
   "source": [
    "import tensorflow as tf\n",
    "print(tf.config.list_physical_devices())\n",
    "\n",
    "import gc\n",
    "class FreeMemory(tf.keras.callbacks.Callback):\n",
    "    def on_epoch_end(self, epoch, logs=None):\n",
    "        print(f'epoch {epoch} ended, info: {logs}')\n",
    "        tf.keras.backend.clear_session()\n",
    "        gc.collect()"
   ]
  },
  {
   "cell_type": "code",
   "execution_count": 2,
   "metadata": {},
   "outputs": [],
   "source": [
    "import numpy as np\n",
    "raw_data = np.load('/host/code/x_y_phi.npy')\n",
    "data_x = [x + 1.j*y for x, y in raw_data[:,:2]]\n",
    "data_y = raw_data[:,-1]"
   ]
  },
  {
   "cell_type": "code",
   "execution_count": 5,
   "metadata": {},
   "outputs": [
    {
     "name": "stdout",
     "output_type": "stream",
     "text": [
      "Model: \"sequential\"\n",
      "_________________________________________________________________\n",
      " Layer (type)                Output Shape              Param #   \n",
      "=================================================================\n",
      " complex_dense (ComplexDens  (None, 32)                128       \n",
      " e)                                                              \n",
      "                                                                 \n",
      " complex_dense_1 (ComplexDe  (None, 1)                 66        \n",
      " nse)                                                            \n",
      "                                                                 \n",
      "=================================================================\n",
      "Total params: 194 (776.00 Byte)\n",
      "Trainable params: 194 (776.00 Byte)\n",
      "Non-trainable params: 0 (0.00 Byte)\n",
      "_________________________________________________________________\n"
     ]
    }
   ],
   "source": [
    "import cvnn.layers as complex_layers\n",
    "from cvnn.losses import ComplexMeanSquareError\n",
    "from tensorflow.keras.optimizers import SGD, Adam\n",
    "\n",
    "model = tf.keras.models.Sequential()\n",
    "model.add(complex_layers.ComplexInput(input_shape=(1,)))\n",
    "model.add(complex_layers.ComplexDense(units=32, activation='pol_tanh'))\n",
    "model.add(complex_layers.ComplexDense(units=1, activation='sigmoid_real'))\n",
    "model.compile(loss=ComplexMeanSquareError(), optimizer=SGD())\n",
    "\n",
    "model.summary()"
   ]
  },
  {
   "cell_type": "code",
   "execution_count": 6,
   "metadata": {},
   "outputs": [
    {
     "name": "stdout",
     "output_type": "stream",
     "text": [
      "epoch 0 ended, info: {'loss': 2.2740001678466797, 'val_loss': 2.3446130752563477}\n",
      "epoch 1 ended, info: {'loss': 2.240057945251465, 'val_loss': 2.3337345123291016}\n",
      "epoch 2 ended, info: {'loss': 2.230614185333252, 'val_loss': 2.3264212608337402}\n",
      "epoch 3 ended, info: {'loss': 2.2250678539276123, 'val_loss': 2.3223164081573486}\n",
      "epoch 4 ended, info: {'loss': 2.2206809520721436, 'val_loss': 2.3212015628814697}\n",
      "epoch 5 ended, info: {'loss': 2.2178711891174316, 'val_loss': 2.317248821258545}\n",
      "epoch 6 ended, info: {'loss': 2.2154953479766846, 'val_loss': 2.3151440620422363}\n",
      "epoch 7 ended, info: {'loss': 2.213690996170044, 'val_loss': 2.313844680786133}\n",
      "epoch 8 ended, info: {'loss': 2.2122838497161865, 'val_loss': 2.312494993209839}\n",
      "epoch 9 ended, info: {'loss': 2.210904359817505, 'val_loss': 2.312950849533081}\n"
     ]
    }
   ],
   "source": [
    "history = model.fit(np.array(data_x), data_y, epochs=10, validation_split=0.2, verbose=0, callbacks=[FreeMemory()])"
   ]
  }
 ],
 "metadata": {
  "kernelspec": {
   "display_name": "Python 3 (ipykernel)",
   "language": "python",
   "name": "python3"
  }
 },
 "nbformat": 4,
 "nbformat_minor": 2
}
