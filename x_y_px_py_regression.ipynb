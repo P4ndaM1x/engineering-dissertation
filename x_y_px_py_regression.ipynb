{
 "cells": [
  {
   "cell_type": "code",
   "execution_count": 5,
   "metadata": {},
   "outputs": [
    {
     "name": "stderr",
     "output_type": "stream",
     "text": [
      "2023-10-14 15:16:10.659869: I tensorflow/core/platform/cpu_feature_guard.cc:182] This TensorFlow binary is optimized to use available CPU instructions in performance-critical operations.\n",
      "To enable the following instructions: AVX2 FMA, in other operations, rebuild TensorFlow with the appropriate compiler flags.\n"
     ]
    },
    {
     "name": "stdout",
     "output_type": "stream",
     "text": [
      "[PhysicalDevice(name='/physical_device:CPU:0', device_type='CPU'), PhysicalDevice(name='/physical_device:GPU:0', device_type='GPU')]\n"
     ]
    },
    {
     "name": "stderr",
     "output_type": "stream",
     "text": [
      "2023-10-14 15:16:12.070685: I tensorflow/compiler/xla/stream_executor/cuda/cuda_gpu_executor.cc:981] could not open file to read NUMA node: /sys/bus/pci/devices/0000:01:00.0/numa_node\n",
      "Your kernel may have been built without NUMA support.\n",
      "2023-10-14 15:16:12.075114: I tensorflow/compiler/xla/stream_executor/cuda/cuda_gpu_executor.cc:981] could not open file to read NUMA node: /sys/bus/pci/devices/0000:01:00.0/numa_node\n",
      "Your kernel may have been built without NUMA support.\n",
      "2023-10-14 15:16:12.075453: I tensorflow/compiler/xla/stream_executor/cuda/cuda_gpu_executor.cc:981] could not open file to read NUMA node: /sys/bus/pci/devices/0000:01:00.0/numa_node\n",
      "Your kernel may have been built without NUMA support.\n"
     ]
    }
   ],
   "source": [
    "import tensorflow as tf\n",
    "print(tf.config.list_physical_devices())\n",
    "\n",
    "import gc\n",
    "class FreeMemory(tf.keras.callbacks.Callback):\n",
    "    def on_epoch_end(self, epoch, logs=None):\n",
    "        print(f'epoch {epoch} ended, info: {logs}')\n",
    "        tf.keras.backend.clear_session()\n",
    "        gc.collect()"
   ]
  },
  {
   "cell_type": "code",
   "execution_count": 10,
   "metadata": {},
   "outputs": [
    {
     "name": "stdout",
     "output_type": "stream",
     "text": [
      "[[-20.76582146  25.30016327  -4.42938805   5.41367865]\n",
      " [-43.03113937  52.27861786  -4.42938805   5.41367865]\n",
      " [-44.05728531  53.51391602  -4.42938805   5.41367865]\n",
      " ...\n",
      " [309.90792847 157.21708679   3.89717793   2.09341168]\n",
      " [269.41137695 137.61724854   3.89717793   2.09341168]\n",
      " [228.95202637 117.90105438   3.89717793   2.09341168]]\n",
      "[[ 1.47936203e+02 -6.08399277e+01  1.53575623e+00 -6.83911204e-01]\n",
      " [ 4.93015015e+02 -4.27398560e+02  6.30746984e+00 -5.20868778e+00]\n",
      " [-7.20287094e+01  2.51914349e+01 -5.44082069e+00  1.87545753e+00]\n",
      " ...\n",
      " [ 2.46447021e+02  4.35848450e+02  1.53485072e+00  2.40950513e+00]\n",
      " [ 1.02812485e+02 -4.85809669e+01  3.04041696e+00 -1.39960194e+00]\n",
      " [ 8.05252625e+02  1.72743378e+02  6.33588839e+00  1.61136818e+00]]\n"
     ]
    }
   ],
   "source": [
    "import numpy as np\n",
    "raw_data = np.load('/host/code/x_y_px_py.npy')\n",
    "print(len(raw_data))\n",
    "\n",
    "np.random.shuffle(raw_data)\n",
    "data_x = [x + 1.j*y for x, y in raw_data[:,:2]]\n",
    "data_y = [x + 1.j*y for x, y in raw_data[:,2:4]]\n"
   ]
  },
  {
   "cell_type": "code",
   "execution_count": 17,
   "metadata": {},
   "outputs": [
    {
     "name": "stdout",
     "output_type": "stream",
     "text": [
      "Model: \"sequential\"\n",
      "_________________________________________________________________\n",
      " Layer (type)                Output Shape              Param #   \n",
      "=================================================================\n",
      " complex_dense (ComplexDens  (None, 32)                128       \n",
      " e)                                                              \n",
      "                                                                 \n",
      " complex_dense_1 (ComplexDe  (None, 32)                2112      \n",
      " nse)                                                            \n",
      "                                                                 \n",
      " complex_dense_2 (ComplexDe  (None, 32)                2112      \n",
      " nse)                                                            \n",
      "                                                                 \n",
      " complex_dense_3 (ComplexDe  (None, 1)                 66        \n",
      " nse)                                                            \n",
      "                                                                 \n",
      "=================================================================\n",
      "Total params: 4418 (17.26 KB)\n",
      "Trainable params: 4418 (17.26 KB)\n",
      "Non-trainable params: 0 (0.00 Byte)\n",
      "_________________________________________________________________\n"
     ]
    }
   ],
   "source": [
    "import cvnn.layers as complex_layers\n",
    "from cvnn.losses import ComplexMeanSquareError\n",
    "from tensorflow.keras.optimizers import SGD, Adam\n",
    "\n",
    "model = tf.keras.models.Sequential()\n",
    "model.add(complex_layers.ComplexInput(input_shape=(1,)))\n",
    "model.add(complex_layers.ComplexDense(units=32, activation='pol_tanh'))\n",
    "model.add(complex_layers.ComplexDense(units=32, activation='pol_sigmoid'))\n",
    "model.add(complex_layers.ComplexDense(units=32, activation='pol_selu'))\n",
    "model.add(complex_layers.ComplexDense(units=1, activation='linear'))\n",
    "model.compile(loss=ComplexMeanSquareError(), optimizer=SGD())\n",
    "\n",
    "model.summary()"
   ]
  },
  {
   "cell_type": "code",
   "execution_count": 18,
   "metadata": {},
   "outputs": [
    {
     "name": "stdout",
     "output_type": "stream",
     "text": [
      "epoch 0 ended, info: {'loss': 6.960112571716309, 'val_loss': 7.480626583099365}\n",
      "epoch 1 ended, info: {'loss': 6.855918884277344, 'val_loss': 9.164103507995605}\n",
      "epoch 2 ended, info: {'loss': 6.842881679534912, 'val_loss': 8.35236644744873}\n",
      "epoch 3 ended, info: {'loss': 6.837730884552002, 'val_loss': 7.061497211456299}\n",
      "epoch 4 ended, info: {'loss': 6.836249351501465, 'val_loss': 12.791231155395508}\n",
      "epoch 5 ended, info: {'loss': 6.833764553070068, 'val_loss': 6.9980692863464355}\n",
      "epoch 6 ended, info: {'loss': 6.835825443267822, 'val_loss': 8.7809476852417}\n",
      "epoch 7 ended, info: {'loss': 6.827271461486816, 'val_loss': 6.8541154861450195}\n",
      "epoch 8 ended, info: {'loss': 6.826211929321289, 'val_loss': 7.2098798751831055}\n",
      "epoch 9 ended, info: {'loss': 6.820016860961914, 'val_loss': 8.482335090637207}\n"
     ]
    }
   ],
   "source": [
    "history = model.fit(np.array(data_x), np.array(data_y), shuffle=True, epochs=10, validation_split=0.2, verbose=0, callbacks=[FreeMemory()])"
   ]
  }
 ],
 "metadata": {
  "kernelspec": {
   "display_name": "Python 3 (ipykernel)",
   "language": "python",
   "name": "python3"
  }
 },
 "nbformat": 4,
 "nbformat_minor": 2
}
